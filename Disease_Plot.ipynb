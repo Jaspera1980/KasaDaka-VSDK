{
 "cells": [
  {
   "cell_type": "code",
   "execution_count": 9,
   "metadata": {},
   "outputs": [],
   "source": [
    "import sqlalchemy\n",
    "\n",
    "#Database details\n",
    "user = 'postgres'\n",
    "password = '123@abc'\n",
    "db = 'KasaDaka'\n",
    "host='127.0.0.1'\n",
    "port=5432"
   ]
  },
  {
   "cell_type": "code",
   "execution_count": 10,
   "metadata": {},
   "outputs": [
    {
     "name": "stderr",
     "output_type": "stream",
     "text": [
      "/home/benny/anaconda3/lib/python3.6/site-packages/psycopg2/__init__.py:144: UserWarning: The psycopg2 wheel package will be renamed from release 2.8; in order to keep installing from binary please use \"pip install psycopg2-binary\" instead. For details see: <http://initd.org/psycopg/docs/install.html#binary-install-from-pypi>.\n",
      "  \"\"\")\n",
      "/home/benny/anaconda3/lib/python3.6/site-packages/ipykernel_launcher.py:13: SADeprecationWarning: reflect=True is deprecate; please use the reflect() method.\n",
      "  del sys.path[0]\n"
     ]
    }
   ],
   "source": [
    "#Function: Connection and Metadata\n",
    "def connect(user, password, db, host, port):\n",
    "    url = 'postgresql://{}:{}@{}:{}/{}'\n",
    "    url = url.format(user, password, host, port, db)\n",
    "    con = sqlalchemy.create_engine(url, client_encoding='utf8')\n",
    "    meta = sqlalchemy.MetaData(bind=con, reflect=True)\n",
    "    return con, meta\n",
    "\n",
    "con, meta = connect(user, password, db, host, port)"
   ]
  },
  {
   "cell_type": "code",
   "execution_count": 13,
   "metadata": {},
   "outputs": [
    {
     "data": {
      "image/png": "[encoded data removed]",
      "text/plain": [
       "<matplotlib.figure.Figure at 0x7f8b68342828>"
      ]
     },
     "metadata": {},
     "output_type": "display_data"
    }
   ],
   "source": [
    "from collections import Counter\n",
    "import matplotlib.pyplot as plt\n",
    "from matplotlib.gridspec import GridSpec\n",
    "\n",
    "def make_plot():\n",
    "    query = con.execute(\"SELECT _visited_element_id FROM service_development_callsessionstep\")\n",
    "    query = query.fetchall()\n",
    "    disease_dict = {16:\"Bursal Disease\", 17:\"Fowl Pox\", 18:\"Marek's Disease\", 19:\"Newcastle Disease\"}\n",
    "    count_list = []\n",
    "    for item in query:\n",
    "        if item[0] in disease_dict.keys():\n",
    "            count_list.append(disease_dict[item[0]])     \n",
    "    #Data\n",
    "    count = Counter(count_list)\n",
    "    labels = count.keys()\n",
    "    fracs = count.values()\n",
    "    # Make square figures and axes\n",
    "    plt.pie(fracs, labels=labels, autopct='%1.1f%%', shadow=True)\n",
    "    plt.title('Disease Occurances')\n",
    "    plt.savefig('disease_graph.jpg')\n",
    "    plt.show()\n",
    "    return \n",
    "    \n",
    "make_plot()"
   ]
  }
 ],
 "metadata": {
  "kernelspec": {
   "display_name": "Python 3",
   "language": "python",
   "name": "python3"
  },
  "language_info": {
   "codemirror_mode": {
    "name": "ipython",
    "version": 3
   },
   "file_extension": ".py",
   "mimetype": "text/x-python",
   "name": "python",
   "nbconvert_exporter": "python",
   "pygments_lexer": "ipython3",
   "version": "3.6.4"
  }
 },
 "nbformat": 4,
 "nbformat_minor": 2
}
